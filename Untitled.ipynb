{
 "cells": [
  {
   "cell_type": "markdown",
   "id": "fbfb91c6",
   "metadata": {},
   "source": [
    "# Clase del 9 de febrero\n",
    "\n",
    "Cosas a trabajar el día de hoy:\n",
    "\n",
    "<ul>\n",
    "    <li>GIT</li>\n",
    "</ul>"
   ]
  },
  {
   "cell_type": "code",
   "execution_count": null,
   "id": "1ce8721d",
   "metadata": {},
   "outputs": [],
   "source": [
    "import "
   ]
  }
 ],
 "metadata": {
  "kernelspec": {
   "display_name": "Python 3 (ipykernel)",
   "language": "python",
   "name": "python3"
  },
  "language_info": {
   "codemirror_mode": {
    "name": "ipython",
    "version": 3
   },
   "file_extension": ".py",
   "mimetype": "text/x-python",
   "name": "python",
   "nbconvert_exporter": "python",
   "pygments_lexer": "ipython3",
   "version": "3.9.13"
  }
 },
 "nbformat": 4,
 "nbformat_minor": 5
}
