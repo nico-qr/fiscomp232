{
 "cells": [
  {
   "cell_type": "code",
   "execution_count": 1,
   "id": "de45b75e",
   "metadata": {},
   "outputs": [],
   "source": [
    "from pylab import *\n",
    "import csv"
   ]
  },
  {
   "cell_type": "code",
   "execution_count": 2,
   "id": "947bf825",
   "metadata": {},
   "outputs": [],
   "source": [
    "def leer_archivo_2col(nombre_del_archivo, cabeza = 1):\n",
    "    todos_los_datos = [] #Crea una lista de almacenamiento\n",
    "    with open(nombre_del_archivo) as csvfile: #Abre el documento con un apuntador\n",
    "        datos_leidos = csv.reader(csvfile, delimiter = \",\") #Lee todos los datos en algún tipo de dato\n",
    "        for renglon in datos_leidos: #Toma cada renglón delimitado por la coma\n",
    "            todos_los_datos.append(renglon) #Mete cada renglón como una lista dentro de la lista de todos los datos\n",
    "        \n",
    "    N_datos = len(todos_los_datos[int(cabeza):]) #Cuenta cuántos DATOS (sin el encabezado) hay\n",
    "    datos_numericos = zeros((2,N_datos)) #Crea un arreglo de 2 columnas con bajada de N_datos \n",
    "\n",
    "    for i in range(N_datos): #Repite el proceso N veces\n",
    "        datos_numericos[0, i] = float(todos_los_datos[i+int(cabeza)][0]) #En la primera columna, elemento i, convierte a float el dato i+1 (no el encabezado), elemento 0\n",
    "        datos_numericos[1,i] = float(todos_los_datos[i+int(cabeza)][1]) #En la segunda columna, elemento i, convierte a float el dato i+1 (no el encabezado), elemento 1\n",
    "    return(datos_numericos)"
   ]
  },
  {
   "cell_type": "code",
   "execution_count": 5,
   "id": "abd8a0f4",
   "metadata": {},
   "outputs": [],
   "source": [
    "def derivar_f(x, f):\n",
    "    N = len(f)\n",
    "    f_prima = zeros_like(f)\n",
    "    dosh, h = x[2]-x[0], x[1] - x[0]\n",
    "    for i in range(1, len(f) - 1):   #Solo consideramos los puntos interiores\n",
    "        f_prima[i] = (f[i+1]-f[i-1])/dosh\n",
    "    f_prima[0] = (-0.5*f[2]+ 2*f[1] - 1.5*f[0])/h\n",
    "    f_prima[-1] = -(-0.5*f[-3]+2*f[-2]- 1.5*f[-1])/h\n",
    "    return f_prima"
   ]
  },
  {
   "cell_type": "code",
   "execution_count": 4,
   "id": "2c248dfa",
   "metadata": {},
   "outputs": [
    {
     "name": "stdout",
     "output_type": "stream",
     "text": [
      "Proceso terminado. Biblioteca cargada. ☠\n"
     ]
    }
   ],
   "source": [
    "print(\"Proceso terminado. Biblioteca cargada. \\u2620\")"
   ]
  }
 ],
 "metadata": {
  "kernelspec": {
   "display_name": "Python 3 (ipykernel)",
   "language": "python",
   "name": "python3"
  },
  "language_info": {
   "codemirror_mode": {
    "name": "ipython",
    "version": 3
   },
   "file_extension": ".py",
   "mimetype": "text/x-python",
   "name": "python",
   "nbconvert_exporter": "python",
   "pygments_lexer": "ipython3",
   "version": "3.9.13"
  }
 },
 "nbformat": 4,
 "nbformat_minor": 5
}
